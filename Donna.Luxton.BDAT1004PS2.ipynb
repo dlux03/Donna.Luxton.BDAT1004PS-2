{
 "cells": [
  {
   "cell_type": "markdown",
   "id": "491f55b8",
   "metadata": {},
   "source": [
    "#Problem Set 2"
   ]
  },
  {
   "cell_type": "markdown",
   "id": "e76094f8",
   "metadata": {},
   "source": [
    "#Question 1\n",
    "Consider the following Python module:\n",
    "\n",
    "a\t0\n",
    "\n",
    "def b():\n",
    "global a a\tc(a)\n",
    "\n",
    "def c(a):\n",
    "return a + 2\n",
    "\n",
    "#After importing the module into the interpreter, you execute:\n",
    "\n",
    "#>>> b()\n",
    "#>>> b()\n",
    "#>>> b()\n",
    "#>>> a\n",
    "#? \n",
    "\n",
    "#What value is displayed when the last expression (a) is evaluated? Explain your answer by indicating what happens in every executed statement.\n"
   ]
  },
  {
   "cell_type": "code",
   "execution_count": 7,
   "id": "93d6508b",
   "metadata": {},
   "outputs": [
    {
     "data": {
      "text/plain": [
       "6"
      ]
     },
     "execution_count": 7,
     "metadata": {},
     "output_type": "execute_result"
    }
   ],
   "source": [
    "a = 0\n",
    "def b():\n",
    " global a\n",
    " a = c(a)\n",
    "def c(a):\n",
    " return a + 2\n",
    "b()\n",
    "b()\n",
    "b()\n",
    "a"
   ]
  },
  {
   "cell_type": "markdown",
   "id": "17a59093",
   "metadata": {},
   "source": [
    "#The number two is added each time.\n",
    "#b()= 0 + 2 = 2\n",
    "#b()= 2 + 2 = 4\n",
    "#b()= 4 + 2 = 6\n",
    "#which makes a=6\n"
   ]
  },
  {
   "cell_type": "markdown",
   "id": "e1580331",
   "metadata": {},
   "source": [
    "#Question 2\n",
    "#Function fileLength(), given to you, takes the name of a file as input and returns\n",
    "#the length of the file:\n",
    "#>>> fileLength('midterm.py')\n",
    "    284\n",
    "#>>> fileLength('idterm.py')\n",
    "#Traceback (most recent call last):\n",
    "#File \"<pyshell#34>\", line 1, in <module>\n",
    " #fileLength('idterm.py')\n",
    "#File \"/Users/me/midterm.py\", line 3, in fileLength\n",
    " #infile = open(filename)\n",
    "#FileNotFoundError: [Errno 2] No such file or directory:\n",
    "#'idterm.py'\n",
    "#As shown above, if the file cannot be found by the interpreter or if it cannot be read as a text file, an exception will be #raised. Modify function fileLength() so that a friendly message is printed instead:\n",
    "#>>> fileLength('midterm.py')\n",
    "358\n",
    "#>>> fileLength('idterm.py')\n",
    "#File idterm.py not found."
   ]
  },
  {
   "cell_type": "code",
   "execution_count": 2,
   "id": "7d0c36d5",
   "metadata": {},
   "outputs": [
    {
     "name": "stdout",
     "output_type": "stream",
     "text": [
      "File midterm.py not found\n",
      "123\n",
      "File idterm.py not found\n"
     ]
    }
   ],
   "source": [
    "def fileLength(file_name):\n",
    "    try:\n",
    "        file = open(file_name)\n",
    "        contents = file.read()\n",
    "        file.close()\n",
    "        print(len(contents))\n",
    "    except FileNotFoundError:\n",
    "        print(f\"File {file_name} not found\")\n",
    "fileLength('midterm.py')\n",
    "fileLength('D:\\Desktop\\Problem Set 2\\Filelength.txt')\n",
    "fileLength('idterm.py')"
   ]
  },
  {
   "cell_type": "markdown",
   "id": "b9d22d0f",
   "metadata": {},
   "source": [
    "#Question 3\n",
    "Write a class named Marsupial that can be used as shown below:\n",
    ">>> m = Marsupial()\n",
    ">>> m.put_in_pouch('doll')\n",
    ">>> m.put_in_pouch('firetruck')\n",
    ">>> m.put_in_pouch('kitten')\n",
    ">>> m.pouch_contents()\n",
    "['doll', 'firetruck', 'kitten']\n",
    "\n",
    "Now write a class named Kangangaroo as a subclass of Marusupial that inherits all the attributes of Marsupial and also:\n",
    "a.\textends the Marsupial_init_ constructor to take, as input, the coordinates x and y of the Kangaroo object,\n",
    "b.\tsupports method jump that takes number values dx and dy as input and moves the kangaroo by dx units along the x-axis and by dy units along the y- axis, and\n",
    "c.\toverloads the est _str_\toperator so it behaves as shown below.\n",
    "\n",
    ">>> k = Kangaroo(0,0)\n",
    ">>> print(k)\n",
    "I am a Kangaroo located at coordinates (0,0)\n",
    ">>> k.put_in_pouch('doll')\n",
    ">>> k.put_in_pouch('firetruck')\n",
    ">>> k.put_in_pouch('kitten')\n",
    ">>> k.pouch_contents()\n",
    "['doll', 'firetruck', 'kitten']\n",
    ">>> k.jump(1,0)\n",
    ">>> k.jump(1,0)\n",
    ">>> k.jump(1,0)\n",
    ">>> print(k)\n",
    "I am a Kangaroo located at coordinates (3,0)\n"
   ]
  },
  {
   "cell_type": "code",
   "execution_count": 17,
   "id": "d301eb1d",
   "metadata": {},
   "outputs": [
    {
     "name": "stdout",
     "output_type": "stream",
     "text": [
      "['doll', 'firetruck', 'kitten']\n"
     ]
    }
   ],
   "source": [
    "class Marsupial:\n",
    "    \n",
    "    def __init__(self):\n",
    "        self.contents=[]\n",
    "    def put_in_pouch(self,a):\n",
    "        self.contents.append(a)\n",
    "    def pouch_contents(self):\n",
    "        print(self.contents)\n",
    "m = Marsupial()\n",
    "m.put_in_pouch('doll')\n",
    "m.put_in_pouch('firetruck')\n",
    "m.put_in_pouch('kitten')\n",
    "m.pouch_contents()"
   ]
  },
  {
   "cell_type": "code",
   "execution_count": 18,
   "id": "0f253d1a",
   "metadata": {},
   "outputs": [
    {
     "name": "stdout",
     "output_type": "stream",
     "text": [
      "I am a Kangaroo located at coordinates(0,0)\n",
      "['doll', 'firetruck', 'kitten']\n",
      "I am a Kangaroo located at coordinates(3,0)\n"
     ]
    }
   ],
   "source": [
    "class Kangaroo(Marsupial):\n",
    "    def __init__(self,x,y):\n",
    "        super().__init__()\n",
    "        self.xcord= x\n",
    "        self.ycord= y\n",
    "    def jump(self,dx,dy):\n",
    "        self.xcord+=dx\n",
    "        self.ycord+=dy\n",
    "    def __str__(self):\n",
    "        return \"I am a Kangaroo located at coordinates\" + \"(\"+str(self.xcord)+ \",\"+str(self.ycord) +\")\"\n",
    "k = Kangaroo(0,0)\n",
    "print(k)\n",
    "k.put_in_pouch('doll')\n",
    "k.put_in_pouch('firetruck')\n",
    "k.put_in_pouch('kitten')\n",
    "k.pouch_contents()\n",
    "k.jump(1,0)\n",
    "k.jump(1,0)\n",
    "k.jump(1,0)\n",
    "print(k)"
   ]
  },
  {
   "cell_type": "code",
   "execution_count": 19,
   "id": "101b13a2",
   "metadata": {},
   "outputs": [
    {
     "name": "stdout",
     "output_type": "stream",
     "text": [
      "['doll', 'firetruck', 'kitten']\n",
      "I am a marsupial. My pouch contains a doll, firetruck, and kitten.\n"
     ]
    }
   ],
   "source": [
    "class Marsupial:\n",
    "    def __init__(self):\n",
    "        self.pouch=[]\n",
    "    def put_in_pouch(self, stuff):\n",
    "        self.pouch=self.pouch+[stuff]\n",
    "    def pouch_contents(self):\n",
    "        return self.pouch\n",
    "    def __str__(self):\n",
    "        stuff=\"\"\n",
    "        if(len(self.pouch)>1):\n",
    "            for i in range(len(self.pouch)-1):\n",
    "                stuff=stuff+self.pouch[i]+\", \"\n",
    "            stuff=stuff+\"and \"\n",
    "        stuff=stuff+self.pouch[-1]+\".\"\n",
    "        return \"I am a marsupial. My pouch contains a \"+stuff\n",
    "m=Marsupial()\n",
    "m.put_in_pouch(\"doll\")\n",
    "m.put_in_pouch(\"firetruck\")\n",
    "m.put_in_pouch(\"kitten\")\n",
    "print(m.pouch_contents())\n",
    "print(m)"
   ]
  },
  {
   "cell_type": "markdown",
   "id": "d7a22fce",
   "metadata": {},
   "source": [
    "#Question 4\n",
    "Write function collatz() that takes a positive integer x as input and prints the Collatz sequence starting at x. A Collatz sequence is obtained by repeatedly applying this rule to the previous number x in the sequence: i f x is even X i f x is odd Your function should stop when the sequence gets to number 1. implementation must be recursive, without any loops. \n",
    "#>>> collatz(1) 1 >>> collatz(10) 10 5 16 8 4 2 1"
   ]
  },
  {
   "cell_type": "code",
   "execution_count": 8,
   "id": "12fe44f1",
   "metadata": {},
   "outputs": [],
   "source": [
    "def collatz(x):\n",
    "    print(x)\n",
    "    if x!=1:\n",
    "        if x%2==0:\n",
    "            x = x//2\n",
    "            x= int(x)\n",
    "            collatz(x)\n",
    "        else:\n",
    "            x= (3*x) +1\n",
    "            x= int(x)\n",
    "            collatz(x)\n",
    "    else:\n",
    "        return"
   ]
  },
  {
   "cell_type": "code",
   "execution_count": 9,
   "id": "6dfd6201",
   "metadata": {},
   "outputs": [
    {
     "name": "stdout",
     "output_type": "stream",
     "text": [
      "1\n"
     ]
    }
   ],
   "source": [
    "collatz(1)"
   ]
  },
  {
   "cell_type": "code",
   "execution_count": 10,
   "id": "6b572728",
   "metadata": {},
   "outputs": [
    {
     "name": "stdout",
     "output_type": "stream",
     "text": [
      "10\n",
      "5\n",
      "16\n",
      "8\n",
      "4\n",
      "2\n",
      "1\n"
     ]
    }
   ],
   "source": [
    "collatz(10)"
   ]
  },
  {
   "cell_type": "markdown",
   "id": "7301238d",
   "metadata": {},
   "source": [
    "#Question 5\n",
    "Write a recursive method binary() that takes a non-negative integer n and prints the binary representation of integer n.\n",
    "#>>> binary(0) 0 >>> binary(1) 1 >>> binary(3) 11 >>> binary(9) 1001"
   ]
  },
  {
   "cell_type": "code",
   "execution_count": 1,
   "id": "f3d66fb1",
   "metadata": {},
   "outputs": [
    {
     "name": "stdout",
     "output_type": "stream",
     "text": [
      "0\n",
      "1\n",
      "11\n",
      "1001\n"
     ]
    }
   ],
   "source": [
    "def binary(n):\n",
    "    if n == 0:\n",
    "        return '0'\n",
    "    else:\n",
    "        b = ''\n",
    "        while n > 0:\n",
    "            b = str((n % 2)) + b\n",
    "            n //= 2\n",
    "        return b\n",
    "\n",
    "print(binary(0))\n",
    "print(binary(1))\n",
    "print(binary(3))\n",
    "print(binary(9))"
   ]
  },
  {
   "cell_type": "markdown",
   "id": "49b1d187",
   "metadata": {},
   "source": [
    "#Question 6\n",
    "#Implement a class named HeadingParser that can be used to parse an HTML document, and retrieve and print all the headings in #the document. You should implement your class as a subclass of HTMLParser, defined in Standard Library module html.parser. When #fed a string containing HTML code, your class should print the headings, one per line and in the order in which they appear in #the document. Each heading should be indented as follows: an h1 heading should have indentation 0, and h2 heading should have #indentation 1, etc. Test your implementation using w3c.html.\n",
    "#>>> infile = open('w3c.html')\n",
    "#>>> content = infile.read()\n",
    "#>>> infile.close()\n",
    "#>>> hp = HeadingParser()\n",
    "#>>> hp.feed(content)\n",
    "\n",
    "#W3C Mission\n",
    "#Principles"
   ]
  },
  {
   "cell_type": "code",
   "execution_count": 1,
   "id": "84f009be",
   "metadata": {},
   "outputs": [
    {
     "name": "stdout",
     "output_type": "stream",
     "text": [
      "W3C Mission\n",
      "\t\n",
      " Principles\n",
      "  \n",
      " \n"
     ]
    }
   ],
   "source": [
    "from html.parser import HTMLParser\n",
    "class HeadingParser(HTMLParser):\n",
    "    def __init__(self):\n",
    "        HTMLParser.__init__(self)\n",
    "        self.value=False\n",
    "        self.space= False\n",
    "        \n",
    "        \n",
    "    def handle_starttag(self, tag, attrs):\n",
    "        if tag == \"h1\":\n",
    "            self.value=True\n",
    "        elif tag==\"h2\":\n",
    "            self.value=True\n",
    "            self.space=True\n",
    "    def handle_data(self, data):\n",
    "        if self.value== True:\n",
    "            if self.space==True:\n",
    "                print(\" \"+data.strip(\"\\n\"))\n",
    "            else:\n",
    "                print(data.strip(\"\\n\"))\n",
    "        \n",
    "            \n",
    "infile = open(r\"D:\\Desktop\\Problem Set 2\\w3c.html\")\n",
    "content = infile.read()\n",
    "infile.close()\n",
    "hp = HeadingParser()\n",
    "hp.feed(content)"
   ]
  },
  {
   "cell_type": "markdown",
   "id": "df74b130",
   "metadata": {},
   "source": [
    "#Question 7\n",
    "#Implement recursive function Webdir( ) that takes as input: a URL (as a string) and non-negative integers depth and indent #indent. Your function should visit every web page reachable from the starting URL web page in depth clicks or less, and print #each web page's URL. \n",
    "#As shown below, indentation, specified by indent, should be used to indicate the depth of a URL. #webdir('http://reed.cs.depaul.edu/perkovic/csc242/test1.html'2,0) \n",
    "    #http://reed.cs.depaul.edu/lperkovic/csc242/test1.html \n",
    "        #http://reed.cs.depaul.edu/lperkovic/csc242/test2.html \n",
    "    #http://reed.cs.depaul.edu/lperkovic/csc242/test4.html \n",
    "        #http://reed.cs.depaul.edu/lperkovic/csc242/test3.html \n",
    "   #http://reed.cs.depaul.edu/lperkovic/csc242/test4.html"
   ]
  },
  {
   "cell_type": "markdown",
   "id": "66006856",
   "metadata": {},
   "source": [
    "***I have given up on Question 7 as I cannot seem to get it right. I will keep trying till I get it on my own time but unfortunately I have no more time to put into this for the assignment. I do apologize that I could not get it to work...***"
   ]
  },
  {
   "cell_type": "code",
   "execution_count": 21,
   "id": "a37ab57c",
   "metadata": {},
   "outputs": [],
   "source": [
    "from urllib.request import urlopen\n",
    "from urllib.parse import urljoin\n",
    "from html.parser import HTMLParser\n",
    "class Collector(HTMLParser):\n",
    "    def __init__(self, url):\n",
    "        HTMLParser.__init__(self)\n",
    "        self.url = url\n",
    "        self.links = []\n",
    "    def handle_starttag(self, tag, attrs):\n",
    "        if tag == 'a':\n",
    "            for attr in attrs:\n",
    "                if attr[0] == 'href':\n",
    "                    absolute = urljoin(self.url, attr[1])\n",
    "                    if absolute[:4] == 'http': \n",
    "                        self.links.append(absolute)\n",
    "    def getLinks(self):\n",
    "        return self.links"
   ]
  },
  {
   "cell_type": "code",
   "execution_count": 22,
   "id": "687db0fc",
   "metadata": {},
   "outputs": [],
   "source": [
    "visited = set() \n",
    "def Webdir(url,depth,indent):\n",
    "    content = urlopen(url).read().decode()\n",
    "    collector = Collector(url)\n",
    "    collector.feed(content)\n",
    "    urls = collector.getLinks()\n",
    "    print('{:45}'.format(url))\n",
    "    global visited     \n",
    "    visited.add(url)\n",
    "    for link in urls:\n",
    "        if link not in visited:\n",
    "            try:\n",
    "                webdir(url,depth,indent)\n",
    "            except:\n",
    "                pass"
   ]
  },
  {
   "cell_type": "code",
   "execution_count": 23,
   "id": "0211a045",
   "metadata": {},
   "outputs": [
    {
     "name": "stdout",
     "output_type": "stream",
     "text": [
      "http://reed.cs.depaul.edu/lperkovic/test1.html\n"
     ]
    },
    {
     "ename": "NameError",
     "evalue": "name 'getLinks' is not defined",
     "output_type": "error",
     "traceback": [
      "\u001b[1;31m---------------------------------------------------------------------------\u001b[0m",
      "\u001b[1;31mNameError\u001b[0m                                 Traceback (most recent call last)",
      "Input \u001b[1;32mIn [23]\u001b[0m, in \u001b[0;36m<cell line: 11>\u001b[1;34m()\u001b[0m\n\u001b[0;32m      8\u001b[0m     \u001b[38;5;28;01mfor\u001b[39;00m i \u001b[38;5;129;01min\u001b[39;00m getLinks(url):\n\u001b[0;32m      9\u001b[0m         webdir(i, depth\u001b[38;5;241m-\u001b[39m\u001b[38;5;241m1\u001b[39m, indent\u001b[38;5;241m+\u001b[39m\u001b[38;5;241m1\u001b[39m)\n\u001b[1;32m---> 11\u001b[0m \u001b[43mwebdir\u001b[49m\u001b[43m(\u001b[49m\u001b[38;5;124;43m\"\u001b[39;49m\u001b[38;5;124;43mhttp://reed.cs.depaul.edu/lperkovic/test1.html\u001b[39;49m\u001b[38;5;124;43m\"\u001b[39;49m\u001b[43m,\u001b[49m\u001b[38;5;241;43m2\u001b[39;49m\u001b[43m,\u001b[49m\u001b[38;5;241;43m0\u001b[39;49m\u001b[43m)\u001b[49m\n",
      "Input \u001b[1;32mIn [23]\u001b[0m, in \u001b[0;36mwebdir\u001b[1;34m(url, depth, indent)\u001b[0m\n\u001b[0;32m      5\u001b[0m \u001b[38;5;28;01mif\u001b[39;00m depth \u001b[38;5;241m==\u001b[39m \u001b[38;5;241m0\u001b[39m:\n\u001b[0;32m      6\u001b[0m     \u001b[38;5;28;01mreturn\u001b[39;00m\n\u001b[1;32m----> 8\u001b[0m \u001b[38;5;28;01mfor\u001b[39;00m i \u001b[38;5;129;01min\u001b[39;00m \u001b[43mgetLinks\u001b[49m(url):\n\u001b[0;32m      9\u001b[0m     webdir(i, depth\u001b[38;5;241m-\u001b[39m\u001b[38;5;241m1\u001b[39m, indent\u001b[38;5;241m+\u001b[39m\u001b[38;5;241m1\u001b[39m)\n",
      "\u001b[1;31mNameError\u001b[0m: name 'getLinks' is not defined"
     ]
    }
   ],
   "source": [
    "def webdir(url, depth, indent):\n",
    "    \n",
    "    print(indent*\" \" + url)\n",
    "\n",
    "    if depth == 0:\n",
    "        return\n",
    "\n",
    "    for i in getLinks(url):\n",
    "        webdir(i, depth-1, indent+1)\n",
    "\n",
    "webdir(\"http://reed.cs.depaul.edu/lperkovic/test1.html\",2,0)"
   ]
  },
  {
   "cell_type": "markdown",
   "id": "65a3015c",
   "metadata": {},
   "source": [
    "#Question 8\n",
    "Write SQL queries on the below database table that return:\n",
    "a) All the temperature data.\n",
    "b) All the cities, but without repetition.\n",
    "c) All the records for India.\n",
    "d) All the Fall records.\n",
    "e) The city, country, and season for which the average rainfall is between 200 and 400 millimeters.\n",
    "f) The city and country for which the average Fall temperature is above 20 degrees, in increasing temperature order.\n",
    "g) The total annual rainfall for Cairo.\n",
    "h) The total rainfall for each season."
   ]
  },
  {
   "cell_type": "code",
   "execution_count": 3,
   "id": "ca13d060",
   "metadata": {},
   "outputs": [
    {
     "ename": "OperationalError",
     "evalue": "table Data already exists",
     "output_type": "error",
     "traceback": [
      "\u001b[1;31m---------------------------------------------------------------------------\u001b[0m",
      "\u001b[1;31mOperationalError\u001b[0m                          Traceback (most recent call last)",
      "Input \u001b[1;32mIn [3]\u001b[0m, in \u001b[0;36m<cell line: 4>\u001b[1;34m()\u001b[0m\n\u001b[0;32m      2\u001b[0m con \u001b[38;5;241m=\u001b[39m sqlite3\u001b[38;5;241m.\u001b[39mconnect(\u001b[38;5;124m'\u001b[39m\u001b[38;5;124mweb.db\u001b[39m\u001b[38;5;124m'\u001b[39m)\n\u001b[0;32m      3\u001b[0m cur \u001b[38;5;241m=\u001b[39m con\u001b[38;5;241m.\u001b[39mcursor()\n\u001b[1;32m----> 4\u001b[0m \u001b[43mcur\u001b[49m\u001b[38;5;241;43m.\u001b[39;49m\u001b[43mexecute\u001b[49m\u001b[43m(\u001b[49m\u001b[38;5;124;43m\"\u001b[39;49m\u001b[38;5;124;43mCREATE TABLE Data(City text,Country text,Season text,Temperature  float ,Rainfall float)\u001b[39;49m\u001b[38;5;124;43m\"\u001b[39;49m\u001b[43m)\u001b[49m\n",
      "\u001b[1;31mOperationalError\u001b[0m: table Data already exists"
     ]
    }
   ],
   "source": [
    "import sqlite3\n",
    "con = sqlite3.connect('web.db')\n",
    "cur = con.cursor()\n",
    "cur.execute(\"CREATE TABLE Data(City text,Country text,Season text,Temperature  float ,Rainfall float)\")"
   ]
  },
  {
   "cell_type": "code",
   "execution_count": 4,
   "id": "11687691",
   "metadata": {},
   "outputs": [
    {
     "data": {
      "text/plain": [
       "<sqlite3.Cursor at 0x1fd03fffce0>"
      ]
     },
     "execution_count": 4,
     "metadata": {},
     "output_type": "execute_result"
    }
   ],
   "source": [
    "cur.execute(\"INSERT INTO Data VALUES ('Mumbai', 'India', 'Winter',24.8,5.9)\")\n",
    "cur.execute(\"INSERT INTO Data VALUES ('Mumbai', 'India', 'Spring',28.4,16.2)\")\n",
    "cur.execute(\"INSERT INTO Data VALUES ('Mumbai', 'India', 'Summer',27.9,1549.4)\")\n",
    "cur.execute(\"INSERT INTO Data VALUES ('Mumbai', 'India', 'Fall',27.6,346.0)\")\n",
    "cur.execute(\"INSERT INTO Data VALUES ('London', 'United Kingdom', 'Winter',4.2,207.7)\")\n",
    "cur.execute(\"INSERT INTO Data VALUES ('London', 'United Kingdom', 'Spring',8.3,169.6)\")\n",
    "cur.execute(\"INSERT INTO Data VALUES ('London', 'United Kingdom', 'Summer',15.7,157.0)\")\n",
    "cur.execute(\"INSERT INTO Data VALUES ('London', 'United Kingdom', 'Fall',10.4,218.5)\")\n",
    "cur.execute(\"INSERT INTO Data VALUES ('Cairo', 'Egypt', 'Winter',13.6,16.5)\")\n",
    "cur.execute(\"INSERT INTO Data VALUES ('Cairo', 'Egypt', 'Spring',20.7,6.5)\")\n",
    "cur.execute(\"INSERT INTO Data VALUES ('Cairo', 'Egypt', 'Summer',27.7,0.1)\")\n",
    "cur.execute(\"INSERT INTO Data VALUES ('Cairo', 'Egypt', 'Fall',22.2,4.5)\")"
   ]
  },
  {
   "cell_type": "code",
   "execution_count": 5,
   "id": "1579dd6d",
   "metadata": {},
   "outputs": [
    {
     "data": {
      "text/plain": [
       "[('Mumbai', 'India', 'Winter', 24.8, 5.9),\n",
       " ('Mumbai', 'India', 'Spring', 28.4, 16.2),\n",
       " ('Mumbai', 'India', 'Summer', 27.9, 1549.4),\n",
       " ('Mumbai', 'India', 'Fall', 27.6, 346.0),\n",
       " ('London', 'United Kingdom', 'Winter', 4.2, 207.7),\n",
       " ('London', 'United Kingdom', 'Spring', 8.3, 169.6),\n",
       " ('London', 'United Kingdom', 'Summer', 15.7, 157.0),\n",
       " ('London', 'United Kingdom', 'Fall', 10.4, 218.5),\n",
       " ('Cairo', 'Egypt', 'Winter', 13.6, 16.5),\n",
       " ('Cairo', 'Egypt', 'Spring', 20.7, 6.5),\n",
       " ('Cairo', 'Egypt', 'Summer', 27.7, 0.1),\n",
       " ('Cairo', 'Egypt', 'Fall', 22.2, 4.5)]"
      ]
     },
     "execution_count": 5,
     "metadata": {},
     "output_type": "execute_result"
    }
   ],
   "source": [
    "cur.execute(\"Select * from Data\")\n",
    "cur.fetchall()"
   ]
  },
  {
   "cell_type": "code",
   "execution_count": 6,
   "id": "b6f26906",
   "metadata": {},
   "outputs": [
    {
     "name": "stdout",
     "output_type": "stream",
     "text": [
      "Answer 8 - a \n",
      "The Temperature data is :\n"
     ]
    },
    {
     "data": {
      "text/plain": [
       "[(24.8,),\n",
       " (28.4,),\n",
       " (27.9,),\n",
       " (27.6,),\n",
       " (4.2,),\n",
       " (8.3,),\n",
       " (15.7,),\n",
       " (10.4,),\n",
       " (13.6,),\n",
       " (20.7,),\n",
       " (27.7,),\n",
       " (22.2,)]"
      ]
     },
     "execution_count": 6,
     "metadata": {},
     "output_type": "execute_result"
    }
   ],
   "source": [
    "print(\"Answer 8 - a \\nThe Temperature data is :\")\n",
    "cur.execute(\"Select Temperature from Data \")\n",
    "cur.fetchall()"
   ]
  },
  {
   "cell_type": "code",
   "execution_count": 7,
   "id": "b053c272",
   "metadata": {},
   "outputs": [
    {
     "name": "stdout",
     "output_type": "stream",
     "text": [
      "Answer 8 - b \n",
      "All the cities without repetition:\n"
     ]
    },
    {
     "data": {
      "text/plain": [
       "[('Mumbai',), ('London',), ('Cairo',)]"
      ]
     },
     "execution_count": 7,
     "metadata": {},
     "output_type": "execute_result"
    }
   ],
   "source": [
    "print(\"Answer 8 - b \\nAll the cities without repetition:\")\n",
    "cur.execute(\"Select Distinct City from Data \")\n",
    "cur.fetchall()"
   ]
  },
  {
   "cell_type": "code",
   "execution_count": 8,
   "id": "1d5921f0",
   "metadata": {},
   "outputs": [
    {
     "name": "stdout",
     "output_type": "stream",
     "text": [
      "Answer 8 - c \n",
      "All the records for India:\n"
     ]
    },
    {
     "data": {
      "text/plain": [
       "[('Mumbai', 'India', 'Winter', 24.8, 5.9),\n",
       " ('Mumbai', 'India', 'Spring', 28.4, 16.2),\n",
       " ('Mumbai', 'India', 'Summer', 27.9, 1549.4),\n",
       " ('Mumbai', 'India', 'Fall', 27.6, 346.0)]"
      ]
     },
     "execution_count": 8,
     "metadata": {},
     "output_type": "execute_result"
    }
   ],
   "source": [
    "print(\"Answer 8 - c \\nAll the records for India:\")\n",
    "cur.execute(\"Select * from Data where Country= 'India' \")\n",
    "cur.fetchall()"
   ]
  },
  {
   "cell_type": "code",
   "execution_count": 9,
   "id": "ca24ae22",
   "metadata": {},
   "outputs": [
    {
     "name": "stdout",
     "output_type": "stream",
     "text": [
      "Answer 8 - d \n",
      "All the fall records:\n"
     ]
    },
    {
     "data": {
      "text/plain": [
       "[('Mumbai', 'India', 'Fall', 27.6, 346.0),\n",
       " ('London', 'United Kingdom', 'Fall', 10.4, 218.5),\n",
       " ('Cairo', 'Egypt', 'Fall', 22.2, 4.5)]"
      ]
     },
     "execution_count": 9,
     "metadata": {},
     "output_type": "execute_result"
    }
   ],
   "source": [
    "print(\"Answer 8 - d \\nAll the fall records:\")\n",
    "cur.execute(\"Select * from Data where Season= 'Fall' \")\n",
    "cur.fetchall()"
   ]
  },
  {
   "cell_type": "code",
   "execution_count": 10,
   "id": "7a1229a5",
   "metadata": {},
   "outputs": [
    {
     "name": "stdout",
     "output_type": "stream",
     "text": [
      "Answer 8 - e \n",
      "The city, country, and season for which the average rainfall is between 200 and 400 millimeters:\n"
     ]
    },
    {
     "data": {
      "text/plain": [
       "[('Mumbai', 'India', 'Fall'),\n",
       " ('London', 'United Kingdom', 'Winter'),\n",
       " ('London', 'United Kingdom', 'Fall')]"
      ]
     },
     "execution_count": 10,
     "metadata": {},
     "output_type": "execute_result"
    }
   ],
   "source": [
    "print(\"Answer 8 - e \\nThe city, country, and season for which the average rainfall is between 200 and 400 millimeters:\")\n",
    "cur.execute(\"Select City,Country,Season from Data where Rainfall between 200 and 400 \")\n",
    "cur.fetchall()"
   ]
  },
  {
   "cell_type": "code",
   "execution_count": 11,
   "id": "8c317805",
   "metadata": {},
   "outputs": [
    {
     "name": "stdout",
     "output_type": "stream",
     "text": [
      "Answer 8 - f \n",
      "The city and country for which the average Fall temperature is above 20 degrees, in increasing temperature order.\n"
     ]
    },
    {
     "data": {
      "text/plain": [
       "[('Cairo', 'Egypt'), ('Mumbai', 'India')]"
      ]
     },
     "execution_count": 11,
     "metadata": {},
     "output_type": "execute_result"
    }
   ],
   "source": [
    "print(\"Answer 8 - f \\nThe city and country for which the average Fall temperature is above 20 degrees, in increasing temperature order.\")\n",
    "cur.execute(\"Select City,Country from Data where Temperature >20 and Season= 'Fall' order By Temperature  \")\n",
    "cur.fetchall()"
   ]
  },
  {
   "cell_type": "code",
   "execution_count": 12,
   "id": "5d72beca",
   "metadata": {},
   "outputs": [
    {
     "name": "stdout",
     "output_type": "stream",
     "text": [
      "Answer 8 - g \n",
      "The total annual rainfall for Cairo is\n"
     ]
    },
    {
     "data": {
      "text/plain": [
       "[(27.6,)]"
      ]
     },
     "execution_count": 12,
     "metadata": {},
     "output_type": "execute_result"
    }
   ],
   "source": [
    "print(\"Answer 8 - g \\nThe total annual rainfall for Cairo is\")\n",
    "cur.execute(\"Select SUM(Rainfall) from Data where City = 'Cairo'  \")\n",
    "cur.fetchall()"
   ]
  },
  {
   "cell_type": "code",
   "execution_count": 13,
   "id": "f6b3808d",
   "metadata": {},
   "outputs": [
    {
     "name": "stdout",
     "output_type": "stream",
     "text": [
      "Answer 8 - h \n",
      "The total rainfall for each season.\n"
     ]
    },
    {
     "data": {
      "text/plain": [
       "[('Fall', 569.0),\n",
       " ('Spring', 192.29999999999998),\n",
       " ('Summer', 1706.5),\n",
       " ('Winter', 230.1)]"
      ]
     },
     "execution_count": 13,
     "metadata": {},
     "output_type": "execute_result"
    }
   ],
   "source": [
    "print(\"Answer 8 - h \\nThe total rainfall for each season.\")\n",
    "cur.execute(\"Select Season,Sum(Rainfall) from Data group by Season \")\n",
    "cur.fetchall()"
   ]
  },
  {
   "cell_type": "markdown",
   "id": "f052d64a",
   "metadata": {},
   "source": [
    "#Question 9\n",
    "#Suppose list words is defined as follows:\n",
    "#>>> words = ['The', 'quick', 'brown', 'fox', 'jumps', 'over', 'the', 'lazy', 'dog']\n",
    "#Write list comprehension expressions that use list words and generate the following lists:\n",
    "#a) ['THE', 'QUICK', 'BROWN', 'FOX', 'JUMPS', 'OVER', 'THE', 'LAZY', 'DOG']\n",
    "#b) ['the', 'quick', 'brown', 'fox', 'jumps', 'over', 'the', 'lazy', 'dog']\n",
    "#c) [3, 5, 5, 3, 5, 4, 3, 4, 3] (the list of lengths of words in list words).\n",
    "#d) [['THE', 'the', 3], ['QUICK', 'quick', 5], ['BROWN', 'brown', 5], ['FOX', 'fox', 3], ['JUMPS', 'jumps', 5], ['OVER', 'over', 4], ['THE', 'the', 3], ['LAZY', 'lazy', 4], ['DOG', 'dog', 3]] (the list containing a list for every word of list words, where each list contains the word in uppercase and lowercase and the length of the word.)\n",
    "#e) ['The', 'quick', 'brown', 'fox', 'jumps', 'over', 'the', 'lazy', 'dog'] (the list of words in list words containing 4 or more characters.)"
   ]
  },
  {
   "cell_type": "code",
   "execution_count": 2,
   "id": "a87738d9",
   "metadata": {},
   "outputs": [
    {
     "name": "stdout",
     "output_type": "stream",
     "text": [
      "['THE', 'QUICK', 'BROWN', 'FOX', 'JUMPS', 'OVER', 'THE', 'LAZY', 'DOG']\n"
     ]
    }
   ],
   "source": [
    "#a)\n",
    "words = ['The', 'quick', 'brown', 'fox', 'jumps', 'over', 'the', 'lazy', 'dog']\n",
    "print([x.upper() for x in words])"
   ]
  },
  {
   "cell_type": "code",
   "execution_count": 3,
   "id": "7a6643ac",
   "metadata": {},
   "outputs": [
    {
     "name": "stdout",
     "output_type": "stream",
     "text": [
      "['the', 'quick', 'brown', 'fox', 'jumps', 'over', 'the', 'lazy', 'dog']\n"
     ]
    }
   ],
   "source": [
    "#b)\n",
    "words = ['The', 'quick', 'brown', 'fox', 'jumps', 'over', 'the', 'lazy', 'dog']\n",
    "print([x.lower() for x in words])"
   ]
  },
  {
   "cell_type": "code",
   "execution_count": 4,
   "id": "d2c8f1a9",
   "metadata": {},
   "outputs": [
    {
     "name": "stdout",
     "output_type": "stream",
     "text": [
      "[3, 5, 5, 3, 5, 4, 3, 4, 3]\n"
     ]
    }
   ],
   "source": [
    "#c)\n",
    "words = ['The', 'quick', 'brown', 'fox', 'jumps', 'over', 'the', 'lazy', 'dog']\n",
    "print([len(x) for x in words])"
   ]
  },
  {
   "cell_type": "code",
   "execution_count": 5,
   "id": "40ca4f14",
   "metadata": {},
   "outputs": [
    {
     "name": "stdout",
     "output_type": "stream",
     "text": [
      "[['THE', 'the', 3], ['QUICK', 'quick', 5], ['BROWN', 'brown', 5], ['FOX', 'fox', 3], ['JUMPS', 'jumps', 5], ['OVER', 'over', 4], ['THE', 'the', 3], ['LAZY', 'lazy', 4], ['DOG', 'dog', 3]]\n"
     ]
    }
   ],
   "source": [
    "#d)\n",
    "words = ['The', 'quick', 'brown', 'fox', 'jumps', 'over', 'the', 'lazy', 'dog']\n",
    "print([[x.upper(), x.lower(), len(x)] for x in words])"
   ]
  },
  {
   "cell_type": "code",
   "execution_count": 6,
   "id": "ab677b88",
   "metadata": {},
   "outputs": [
    {
     "name": "stdout",
     "output_type": "stream",
     "text": [
      "['quick', 'brown', 'jumps', 'over', 'lazy']\n"
     ]
    }
   ],
   "source": [
    "#e)\n",
    "words = ['The', 'quick', 'brown', 'fox', 'jumps', 'over', 'the', 'lazy', 'dog']\n",
    "print([x for x in words if len(x)>=4])"
   ]
  }
 ],
 "metadata": {
  "kernelspec": {
   "display_name": "Python 3 (ipykernel)",
   "language": "python",
   "name": "python3"
  },
  "language_info": {
   "codemirror_mode": {
    "name": "ipython",
    "version": 3
   },
   "file_extension": ".py",
   "mimetype": "text/x-python",
   "name": "python",
   "nbconvert_exporter": "python",
   "pygments_lexer": "ipython3",
   "version": "3.9.12"
  }
 },
 "nbformat": 4,
 "nbformat_minor": 5
}
